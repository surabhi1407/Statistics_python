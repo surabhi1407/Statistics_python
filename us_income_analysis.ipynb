{
 "cells": [
  {
   "cell_type": "markdown",
   "metadata": {},
   "source": [
    "### Distributions and Sampling\n",
    "\n",
    "> **Data set: US income data**\n",
    "\n",
    ">Each row is a single county in the US. For each county, we have the following columns:\n",
    ">\n",
    "- id -- the county id.\n",
    "- county -- the name and state of the county.\n",
    "- pop_over_25 -- the number of adults over age 25.\n",
    "- median_income -- the median income for residents over age 25 in the county.\n",
    "- median_income_no_hs -- median income for residents without a high school education.\n",
    "- median_income_hs -- median income for high school graduates who didn't go to college.\n",
    "- median_income_some_college -- median income for residents who went to college but didn't graduate.\n",
    "- median_income_college -- median income for college graduates.\n",
    "- median_income_graduate_degree -- median income for those with a masters or other graduate degree."
   ]
  },
  {
   "cell_type": "code",
   "execution_count": 2,
   "metadata": {},
   "outputs": [
    {
     "data": {
      "text/html": [
       "<div>\n",
       "<style>\n",
       "    .dataframe thead tr:only-child th {\n",
       "        text-align: right;\n",
       "    }\n",
       "\n",
       "    .dataframe thead th {\n",
       "        text-align: left;\n",
       "    }\n",
       "\n",
       "    .dataframe tbody tr th {\n",
       "        vertical-align: top;\n",
       "    }\n",
       "</style>\n",
       "<table border=\"1\" class=\"dataframe\">\n",
       "  <thead>\n",
       "    <tr style=\"text-align: right;\">\n",
       "      <th></th>\n",
       "      <th>id</th>\n",
       "      <th>county</th>\n",
       "      <th>pop_over_25</th>\n",
       "      <th>median_income</th>\n",
       "      <th>median_income_no_hs</th>\n",
       "      <th>median_income_hs</th>\n",
       "      <th>median_income_some_college</th>\n",
       "      <th>median_income_college</th>\n",
       "      <th>median_income_graduate_degree</th>\n",
       "    </tr>\n",
       "  </thead>\n",
       "  <tbody>\n",
       "    <tr>\n",
       "      <th>0</th>\n",
       "      <td>1001</td>\n",
       "      <td>Autauga County, Alabama</td>\n",
       "      <td>35696</td>\n",
       "      <td>34581</td>\n",
       "      <td>17946</td>\n",
       "      <td>30157</td>\n",
       "      <td>33225</td>\n",
       "      <td>53248</td>\n",
       "      <td>68125</td>\n",
       "    </tr>\n",
       "    <tr>\n",
       "      <th>1</th>\n",
       "      <td>1003</td>\n",
       "      <td>Baldwin County, Alabama</td>\n",
       "      <td>130063</td>\n",
       "      <td>31352</td>\n",
       "      <td>17474</td>\n",
       "      <td>25242</td>\n",
       "      <td>30922</td>\n",
       "      <td>46017</td>\n",
       "      <td>55933</td>\n",
       "    </tr>\n",
       "    <tr>\n",
       "      <th>2</th>\n",
       "      <td>1005</td>\n",
       "      <td>Barbour County, Alabama</td>\n",
       "      <td>18988</td>\n",
       "      <td>25182</td>\n",
       "      <td>20692</td>\n",
       "      <td>21325</td>\n",
       "      <td>24090</td>\n",
       "      <td>41888</td>\n",
       "      <td>50245</td>\n",
       "    </tr>\n",
       "    <tr>\n",
       "      <th>3</th>\n",
       "      <td>1007</td>\n",
       "      <td>Bibb County, Alabama</td>\n",
       "      <td>15340</td>\n",
       "      <td>27638</td>\n",
       "      <td>22274</td>\n",
       "      <td>28980</td>\n",
       "      <td>22387</td>\n",
       "      <td>30284</td>\n",
       "      <td>42236</td>\n",
       "    </tr>\n",
       "    <tr>\n",
       "      <th>4</th>\n",
       "      <td>1009</td>\n",
       "      <td>Blount County, Alabama</td>\n",
       "      <td>38846</td>\n",
       "      <td>32808</td>\n",
       "      <td>24870</td>\n",
       "      <td>27541</td>\n",
       "      <td>34660</td>\n",
       "      <td>48681</td>\n",
       "      <td>53664</td>\n",
       "    </tr>\n",
       "  </tbody>\n",
       "</table>\n",
       "</div>"
      ],
      "text/plain": [
       "     id                   county  pop_over_25  median_income  \\\n",
       "0  1001  Autauga County, Alabama        35696          34581   \n",
       "1  1003  Baldwin County, Alabama       130063          31352   \n",
       "2  1005  Barbour County, Alabama        18988          25182   \n",
       "3  1007     Bibb County, Alabama        15340          27638   \n",
       "4  1009   Blount County, Alabama        38846          32808   \n",
       "\n",
       "   median_income_no_hs  median_income_hs  median_income_some_college  \\\n",
       "0                17946             30157                       33225   \n",
       "1                17474             25242                       30922   \n",
       "2                20692             21325                       24090   \n",
       "3                22274             28980                       22387   \n",
       "4                24870             27541                       34660   \n",
       "\n",
       "   median_income_college  median_income_graduate_degree  \n",
       "0                  53248                          68125  \n",
       "1                  46017                          55933  \n",
       "2                  41888                          50245  \n",
       "3                  30284                          42236  \n",
       "4                  48681                          53664  "
      ]
     },
     "execution_count": 2,
     "metadata": {},
     "output_type": "execute_result"
    }
   ],
   "source": [
    "import pandas as p\n",
    "\n",
    "income = p.read_csv(\"us_income.csv\")\n",
    "income.head()"
   ]
  },
  {
   "cell_type": "code",
   "execution_count": 9,
   "metadata": {},
   "outputs": [
    {
     "name": "stdout",
     "output_type": "stream",
     "text": [
      "Lowest income county : Starr County, Texas\n",
      "********************\n",
      "Lowest income high population county : Miami-Dade County, Florida\n",
      "************************************\n"
     ]
    }
   ],
   "source": [
    "## county with the lowest median income in the US (median_income). \n",
    "lowest_income_county = income[\"county\"][income[\"median_income\"].idxmin()]\n",
    "\n",
    "## county that has more than 500000 residents with the lowest median income. \n",
    "pop_50000 = income[income[\"pop_over_25\"]>500000]\n",
    "\n",
    "lowest_income_high_pop_county = pop_50000[\"county\"][pop_50000[\"median_income\"].idxmin()]\n",
    "\n",
    "print(\"Lowest income county :\",lowest_income_county)\n",
    "print('**'*10)\n",
    "print(\"Lowest income high population county :\",lowest_income_high_pop_county)\n",
    "print('****'*9)"
   ]
  },
  {
   "cell_type": "markdown",
   "metadata": {},
   "source": [
    "##### Generating random sample"
   ]
  },
  {
   "cell_type": "code",
   "execution_count": 10,
   "metadata": {},
   "outputs": [
    {
     "name": "stdout",
     "output_type": "stream",
     "text": [
      "[9, 0, 6, 7, 9]\n",
      "************************************\n",
      "[9, 0, 6, 7, 9]\n",
      "************************************\n",
      "[7, 8, 7, 7, 8]\n",
      "************************************\n",
      "[10, 2, 4, 10, 10, 1, 5, 9, 2, 0]\n"
     ]
    }
   ],
   "source": [
    "import random\n",
    "\n",
    "# Returns a random integer between the numbers 0 and 10, inclusive.\n",
    "num = random.randint(0, 10)\n",
    "\n",
    "# Generate a sequence of 10 random numbers between the values of 0 and 10.\n",
    "random_sequence = [random.randint(0, 10) for _ in range(10)]\n",
    "\n",
    "# Sometimes, when we generate a random sequence, we want it to be the same sequence whenever the program is run.\n",
    "# An example is when you use random numbers to select a subset of the data, and you want other people\n",
    "# looking at the same data to get the same subset.\n",
    "# We can ensure this by setting a random seed.\n",
    "# A random seed is an integer that is used to \"seed\" a random number generator.\n",
    "# After a random seed is set, the numbers generated after will follow the same sequence.\n",
    "random.seed(10)\n",
    "print([random.randint(0,10) for _ in range(5)])\n",
    "random.seed(10)\n",
    "print('****'*9)\n",
    "# Same sequence as above.\n",
    "print([random.randint(0,10) for _ in range(5)])\n",
    "print('****'*9)\n",
    "random.seed(11)\n",
    "# Different seed means different sequence.\n",
    "print([random.randint(0,10) for _ in range(5)])\n",
    "print('****'*9)\n",
    "random.seed(20)\n",
    "new_sequence = [random.randint(0,10) for _ in range(10)]\n",
    "print(new_sequence)"
   ]
  },
  {
   "cell_type": "markdown",
   "metadata": {},
   "source": [
    "##### Selecting random sample"
   ]
  },
  {
   "cell_type": "code",
   "execution_count": 16,
   "metadata": {},
   "outputs": [
    {
     "name": "stdout",
     "output_type": "stream",
     "text": [
      "[600, 100, 20, 300]\n"
     ]
    }
   ],
   "source": [
    "# Let's say that we have some data on how much shoppers spend in a store.\n",
    "shopping = [300, 200, 100, 600, 20]\n",
    "\n",
    "# We want to sample the data, and only select 4 elements.\n",
    "# Setting up a seed ensures that the same set is selected everytime\n",
    "random.seed(3)\n",
    "shopping_sample = random.sample(shopping, 4)\n",
    "\n",
    "# 4 random items from the shopping list.\n",
    "print(shopping_sample)"
   ]
  },
  {
   "cell_type": "code",
   "execution_count": 20,
   "metadata": {},
   "outputs": [
    {
     "data": {
      "image/png": "[encoded data removed]",
      "text/plain": [
       "<matplotlib.figure.Figure at 0x10dd6aac8>"
      ]
     },
     "metadata": {},
     "output_type": "display_data"
    },
    {
     "data": {
      "image/png": "[encoded data removed]",
      "text/plain": [
       "<matplotlib.figure.Figure at 0x10de98240>"
      ]
     },
     "metadata": {},
     "output_type": "display_data"
    },
    {
     "data": {
      "image/png": "[encoded data removed]",
      "text/plain": [
       "<matplotlib.figure.Figure at 0x10e0a4a58>"
      ]
     },
     "metadata": {},
     "output_type": "display_data"
    }
   ],
   "source": [
    "# Comparing the random samples of throwing a dice by ploting a histogram\n",
    "import matplotlib.pyplot as plt\n",
    "\n",
    "# A function that returns the result of a die roll.\n",
    "def roll():\n",
    "    return random.randint(1, 6)\n",
    "\n",
    "random.seed(1)\n",
    "small_sample = [roll() for _ in range(10)]\n",
    "\n",
    "# Plot a histogram with 6 bins (1 for each possible outcome of the die roll)\n",
    "plt.hist(small_sample, 6)\n",
    "plt.title(\"10 throws\")\n",
    "plt.show()\n",
    "random.seed(1)\n",
    "medium_sample = [roll() for _ in range(100)]\n",
    "\n",
    "plt.hist(medium_sample, 6)\n",
    "plt.title(\"100 throws\")\n",
    "plt.show()\n",
    "\n",
    "random.seed(1)\n",
    "large_sample = [roll() for _ in range(10000)]\n",
    "\n",
    "plt.hist(large_sample, 6)\n",
    "plt.title(\"10000 throws\")\n",
    "plt.show()"
   ]
  },
  {
   "cell_type": "code",
   "execution_count": null,
   "metadata": {
    "collapsed": true
   },
   "outputs": [],
   "source": []
  }
 ],
 "metadata": {
  "kernelspec": {
   "display_name": "Python 3",
   "language": "python",
   "name": "python3"
  },
  "language_info": {
   "codemirror_mode": {
    "name": "ipython",
    "version": 3
   },
   "file_extension": ".py",
   "mimetype": "text/x-python",
   "name": "python",
   "nbconvert_exporter": "python",
   "pygments_lexer": "ipython3",
   "version": "3.6.1"
  }
 },
 "nbformat": 4,
 "nbformat_minor": 2
}
