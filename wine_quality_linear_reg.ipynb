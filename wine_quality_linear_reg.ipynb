{
 "cells": [
  {
   "cell_type": "markdown",
   "metadata": {},
   "source": [
    "### Linear Regression "
   ]
  },
  {
   "cell_type": "markdown",
   "metadata": {},
   "source": [
    ">The r-value indicates how correlated two variables are. This can range from no correlation to a negative correlation to a positive correlation.\n",
    ">\n",
    "The more correlated two variables are, the easier it becomes to use one to predict the other. For instance, if I know that how much I pay for my steak is highly positively correlated to the size of the steak (in ounces), I can create a formula that helps me predict how much I would be paying for my steak.\n",
    ">\n",
    "The way we do this is with **linear regression**. Linear regression gives us a formula. If we plug in the value for one variable into this formula, we get the value for the other variable.\n",
    ">\n",
    "The equation to create the formula takes the form \n",
    "**y=mx+b **\n",
    "\n",
    ">We have to calculate values for m and b before we can use our formula.\n",
    "\n",
    ">We'll calculate slope first -- the formula is **cov(x,y)/σx2**, which is just the covariance of x and y divided by the variance of x.\n",
    ">\n",
    ">We can use the cov function to calculate covariance, and the .var() method on Pandas series to calculate variance.\n",
    "\n",
    "> # If using linear regression must ensure that the 2 variables x(to be used to predict) and y(to predict) should be co-related"
   ]
  },
  {
   "cell_type": "code",
   "execution_count": 1,
   "metadata": {},
   "outputs": [
    {
     "data": {
      "text/html": [
       "<div>\n",
       "<style>\n",
       "    .dataframe thead tr:only-child th {\n",
       "        text-align: right;\n",
       "    }\n",
       "\n",
       "    .dataframe thead th {\n",
       "        text-align: left;\n",
       "    }\n",
       "\n",
       "    .dataframe tbody tr th {\n",
       "        vertical-align: top;\n",
       "    }\n",
       "</style>\n",
       "<table border=\"1\" class=\"dataframe\">\n",
       "  <thead>\n",
       "    <tr style=\"text-align: right;\">\n",
       "      <th></th>\n",
       "      <th>fixed acidity</th>\n",
       "      <th>volatile acidity</th>\n",
       "      <th>citric acid</th>\n",
       "      <th>residual sugar</th>\n",
       "      <th>chlorides</th>\n",
       "      <th>free sulfur dioxide</th>\n",
       "      <th>total sulfur dioxide</th>\n",
       "      <th>density</th>\n",
       "      <th>pH</th>\n",
       "      <th>sulphates</th>\n",
       "      <th>alcohol</th>\n",
       "      <th>quality</th>\n",
       "    </tr>\n",
       "  </thead>\n",
       "  <tbody>\n",
       "    <tr>\n",
       "      <th>0</th>\n",
       "      <td>7.0</td>\n",
       "      <td>0.27</td>\n",
       "      <td>0.36</td>\n",
       "      <td>20.7</td>\n",
       "      <td>0.045</td>\n",
       "      <td>45.0</td>\n",
       "      <td>170.0</td>\n",
       "      <td>1.0010</td>\n",
       "      <td>3.00</td>\n",
       "      <td>0.45</td>\n",
       "      <td>8.8</td>\n",
       "      <td>6</td>\n",
       "    </tr>\n",
       "    <tr>\n",
       "      <th>1</th>\n",
       "      <td>6.3</td>\n",
       "      <td>0.30</td>\n",
       "      <td>0.34</td>\n",
       "      <td>1.6</td>\n",
       "      <td>0.049</td>\n",
       "      <td>14.0</td>\n",
       "      <td>132.0</td>\n",
       "      <td>0.9940</td>\n",
       "      <td>3.30</td>\n",
       "      <td>0.49</td>\n",
       "      <td>9.5</td>\n",
       "      <td>6</td>\n",
       "    </tr>\n",
       "    <tr>\n",
       "      <th>2</th>\n",
       "      <td>8.1</td>\n",
       "      <td>0.28</td>\n",
       "      <td>0.40</td>\n",
       "      <td>6.9</td>\n",
       "      <td>0.050</td>\n",
       "      <td>30.0</td>\n",
       "      <td>97.0</td>\n",
       "      <td>0.9951</td>\n",
       "      <td>3.26</td>\n",
       "      <td>0.44</td>\n",
       "      <td>10.1</td>\n",
       "      <td>6</td>\n",
       "    </tr>\n",
       "    <tr>\n",
       "      <th>3</th>\n",
       "      <td>7.2</td>\n",
       "      <td>0.23</td>\n",
       "      <td>0.32</td>\n",
       "      <td>8.5</td>\n",
       "      <td>0.058</td>\n",
       "      <td>47.0</td>\n",
       "      <td>186.0</td>\n",
       "      <td>0.9956</td>\n",
       "      <td>3.19</td>\n",
       "      <td>0.40</td>\n",
       "      <td>9.9</td>\n",
       "      <td>6</td>\n",
       "    </tr>\n",
       "    <tr>\n",
       "      <th>4</th>\n",
       "      <td>7.2</td>\n",
       "      <td>0.23</td>\n",
       "      <td>0.32</td>\n",
       "      <td>8.5</td>\n",
       "      <td>0.058</td>\n",
       "      <td>47.0</td>\n",
       "      <td>186.0</td>\n",
       "      <td>0.9956</td>\n",
       "      <td>3.19</td>\n",
       "      <td>0.40</td>\n",
       "      <td>9.9</td>\n",
       "      <td>6</td>\n",
       "    </tr>\n",
       "  </tbody>\n",
       "</table>\n",
       "</div>"
      ],
      "text/plain": [
       "   fixed acidity  volatile acidity  citric acid  residual sugar  chlorides  \\\n",
       "0            7.0              0.27         0.36            20.7      0.045   \n",
       "1            6.3              0.30         0.34             1.6      0.049   \n",
       "2            8.1              0.28         0.40             6.9      0.050   \n",
       "3            7.2              0.23         0.32             8.5      0.058   \n",
       "4            7.2              0.23         0.32             8.5      0.058   \n",
       "\n",
       "   free sulfur dioxide  total sulfur dioxide  density    pH  sulphates  \\\n",
       "0                 45.0                 170.0   1.0010  3.00       0.45   \n",
       "1                 14.0                 132.0   0.9940  3.30       0.49   \n",
       "2                 30.0                  97.0   0.9951  3.26       0.44   \n",
       "3                 47.0                 186.0   0.9956  3.19       0.40   \n",
       "4                 47.0                 186.0   0.9956  3.19       0.40   \n",
       "\n",
       "   alcohol  quality  \n",
       "0      8.8        6  \n",
       "1      9.5        6  \n",
       "2     10.1        6  \n",
       "3      9.9        6  \n",
       "4      9.9        6  "
      ]
     },
     "execution_count": 1,
     "metadata": {},
     "output_type": "execute_result"
    }
   ],
   "source": [
    "import pandas as p\n",
    "\n",
    "wine_quality = p.read_csv(\"wine_quality_white.csv\")\n",
    "wine_quality.head()"
   ]
  },
  {
   "cell_type": "code",
   "execution_count": 3,
   "metadata": {},
   "outputs": [
    {
     "name": "stdout",
     "output_type": "stream",
     "text": [
      "The slope for quality and density :  -90.9423999421\n"
     ]
    }
   ],
   "source": [
    "from numpy import cov\n",
    "\n",
    "# To predict quality (y) density (x)\n",
    "\n",
    "slope_density = cov(wine_quality[\"density\"],wine_quality[\"quality\"])[0, 1]/ wine_quality[\"density\"].var()\n",
    "\n",
    "print(\"The slope for quality and density : \", slope_density)"
   ]
  },
  {
   "cell_type": "code",
   "execution_count": 6,
   "metadata": {},
   "outputs": [
    {
     "name": "stdout",
     "output_type": "stream",
     "text": [
      "The intersept for the density and quality eqauation :  5.87894034799\n"
     ]
    }
   ],
   "source": [
    "from numpy import cov\n",
    "\n",
    "# This function will take in two columns of data, and return the slope of the linear regression line.\n",
    "def calc_slope(x, y):\n",
    "    return cov(x, y)[0, 1] / x.var()\n",
    "\n",
    "# Calculating the y-intersept y - mx =b\n",
    "\n",
    "intercept_density = wine_quality[\"quality\"].mean() - (calc_slope(wine_quality[\"quality\"], wine_quality[\"density\"]) * wine_quality[\"density\"].mean())\n",
    "\n",
    "print(\"The intersept for the density and quality eqauation : \",intercept_density)"
   ]
  },
  {
   "cell_type": "code",
   "execution_count": 7,
   "metadata": {
    "collapsed": true
   },
   "outputs": [],
   "source": [
    "## Predicting\n",
    "\n",
    "from numpy import cov\n",
    "\n",
    "def calc_slope(x, y):\n",
    "    return cov(x, y)[0, 1] / x.var()\n",
    "\n",
    "# Calculate the intercept given the x column, y column, and the slope\n",
    "def calc_intercept(x, y, slope):\n",
    "    return y.mean() - (slope * x.mean())\n",
    "\n",
    "def predict(value):\n",
    "    slope = calc_slope(wine_quality[\"density\"],wine_quality[\"quality\"])\n",
    "    return ( slope * value )+ calc_intercept(wine_quality[\"density\"],wine_quality[\"quality\"], slope)\n",
    "    \n",
    "predicted_quality = wine_quality[\"density\"].apply(predict)"
   ]
  },
  {
   "cell_type": "code",
   "execution_count": 8,
   "metadata": {},
   "outputs": [
    {
     "name": "stdout",
     "output_type": "stream",
     "text": [
      "[1, 2, 3, 3, 4, 5]\n"
     ]
    }
   ],
   "source": [
    "a =[1,2,3]\n",
    "b = [3,4,5]\n",
    "print(a+b)"
   ]
  },
  {
   "cell_type": "markdown",
   "metadata": {},
   "source": [
    "### Using linregress and finding residuals(error in prediction)\n",
    "\n",
    ">The linregress function makes it simple to do linear regression.\n",
    "\n",
    ">We can plot out our line and our actual values, and see how far apart they are on the y-axis.\n",
    ">\n",
    "We can also compute the distance between each prediction and the actual value -- these distances are called residuals.\n",
    "If we add up the sum of the squared residuals, we can get a good error estimate for our line.\n",
    ">\n",
    "We have to add the squared residuals, because just like differences from the mean, the residuals add to 0 if they aren't squared.\n",
    ">\n",
    "To put it in math terms, the sum of squared residuals is: ∑i=1n (yi−y^i)2\n",
    "The variable\n",
    "y^i\n",
    "is the predicted y value at position i."
   ]
  },
  {
   "cell_type": "markdown",
   "metadata": {},
   "source": [
    "#### Std Error\n",
    "\n",
    ">From the sum of squared residuals, we can find the standard error. The standard error is similar to the standard deviation, but it tries to make an estimate for the whole population of y-values -- even the ones we haven't seen yet that we may want to predict in the future.\n",
    "\n",
    ">The standard error lets us quickly determine how good or bad a linear model is at prediction.\n",
    "\n",
    ">The equation for standard error is RSS/n−2.\n",
    "\n",
    ">You take the sum of squared residuals, divide by the number of y-points minus two, and then take the square root.\n",
    "\n"
   ]
  },
  {
   "cell_type": "code",
   "execution_count": 10,
   "metadata": {},
   "outputs": [
    {
     "name": "stdout",
     "output_type": "stream",
     "text": [
      "Predicted value within 1 stderr 0.6845651286239282\n",
      "Predicted value within 2 stderr 0.9356880359330338\n",
      "Predicted value within 3 stderr 0.9936708860759493\n"
     ]
    }
   ],
   "source": [
    "from scipy.stats import linregress\n",
    "import numpy as np\n",
    "\n",
    "# We can do our linear regression\n",
    "# Sadly, the stderr_slope isn't the standard error, but it is the standard error of the slope fitting only\n",
    "# We'll need to calculate the standard error of the equation ourselves\n",
    "slope, intercept, r_value, p_value, stderr_slope = linregress(wine_quality[\"density\"], wine_quality[\"quality\"])\n",
    "\n",
    "predicted_y = np.asarray([slope * x + intercept for x in wine_quality[\"density\"]])\n",
    "residuals = (wine_quality[\"quality\"] - predicted_y) ** 2\n",
    "rss = sum(residuals)\n",
    "\n",
    "stderr = (rss /(len(wine_quality[\"quality\"]-2))) ** (1/2)\n",
    "\n",
    "def within_percentage(y, predicted_y, stderr, error_count):\n",
    "    within = stderr * error_count\n",
    "\n",
    "    differences = abs(predicted_y - y)\n",
    "    lower_differences = [d for d in differences if d <= within]\n",
    "    within_count = len(lower_differences)\n",
    "    return within_count / len(y)\n",
    "\n",
    "within_one = within_percentage(wine_quality[\"quality\"], predicted_y, stderr, 1)\n",
    "within_two = within_percentage(wine_quality[\"quality\"], predicted_y, stderr, 2)\n",
    "within_three = within_percentage(wine_quality[\"quality\"], predicted_y, stderr, 3)\n",
    "\n",
    "print(\"Predicted value within 1 stderr\",within_one )\n",
    "print(\"Predicted value within 2 stderr\",within_two )\n",
    "print(\"Predicted value within 3 stderr\",within_three )"
   ]
  },
  {
   "cell_type": "code",
   "execution_count": null,
   "metadata": {
    "collapsed": true
   },
   "outputs": [],
   "source": []
  }
 ],
 "metadata": {
  "kernelspec": {
   "display_name": "Python 3",
   "language": "python",
   "name": "python3"
  },
  "language_info": {
   "codemirror_mode": {
    "name": "ipython",
    "version": 3
   },
   "file_extension": ".py",
   "mimetype": "text/x-python",
   "name": "python",
   "nbconvert_exporter": "python",
   "pygments_lexer": "ipython3",
   "version": "3.6.1"
  }
 },
 "nbformat": 4,
 "nbformat_minor": 2
}
